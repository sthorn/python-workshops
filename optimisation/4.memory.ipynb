{
 "cells": [
  {
   "cell_type": "markdown",
   "metadata": {},
   "source": [
    "# Memory profiling"
   ]
  },
  {
   "cell_type": "code",
   "execution_count": 1,
   "metadata": {},
   "outputs": [],
   "source": [
    "import sys \n",
    "import numpy as np\n",
    "\n",
    "import matplotlib.pyplot as plt\n",
    "%matplotlib inline"
   ]
  },
  {
   "cell_type": "markdown",
   "metadata": {},
   "source": [
    "## Size of individual objects"
   ]
  },
  {
   "cell_type": "markdown",
   "metadata": {},
   "source": [
    "###  `sys.getsizeof()`"
   ]
  },
  {
   "cell_type": "markdown",
   "metadata": {},
   "source": [
    "Provides a simple way to (estimate) the size of an object. For example, create a `list` of the first ten cubes:"
   ]
  },
  {
   "cell_type": "code",
   "execution_count": 2,
   "metadata": {},
   "outputs": [
    {
     "data": {
      "text/plain": [
       "[0, 1, 8, 27, 64, 125, 216, 343, 512, 729]"
      ]
     },
     "execution_count": 2,
     "metadata": {},
     "output_type": "execute_result"
    }
   ],
   "source": [
    "a = [x**3 for x in range(10)]\n",
    "a"
   ]
  },
  {
   "cell_type": "markdown",
   "metadata": {},
   "source": [
    "Determine the size of `a`:"
   ]
  },
  {
   "cell_type": "code",
   "execution_count": 3,
   "metadata": {},
   "outputs": [
    {
     "name": "stdout",
     "output_type": "stream",
     "text": [
      "Size of a: 192 bytes\n"
     ]
    }
   ],
   "source": [
    "size_a = sys.getsizeof(a)\n",
    "print(f'Size of a: {size_a} bytes') "
   ]
  },
  {
   "cell_type": "markdown",
   "metadata": {},
   "source": [
    "`sys.getsizeof()` is good for simple Python objects. The memory usage for more complicated objects (that may reference other objects) might not be accurate."
   ]
  },
  {
   "cell_type": "markdown",
   "metadata": {},
   "source": [
    "### NumPy \n",
    "NumPy provides its own way to show the size of an array. Use this rather than `sys.getsizeof()`: "
   ]
  },
  {
   "cell_type": "code",
   "execution_count": 4,
   "metadata": {},
   "outputs": [
    {
     "data": {
      "text/plain": [
       "array([  0,   1,   8,  27,  64, 125, 216, 343, 512, 729])"
      ]
     },
     "execution_count": 4,
     "metadata": {},
     "output_type": "execute_result"
    }
   ],
   "source": [
    "a = np.arange(10)**3\n",
    "a"
   ]
  },
  {
   "cell_type": "code",
   "execution_count": 5,
   "metadata": {},
   "outputs": [
    {
     "data": {
      "text/plain": [
       "80"
      ]
     },
     "execution_count": 5,
     "metadata": {},
     "output_type": "execute_result"
    }
   ],
   "source": [
    "a.nbytes"
   ]
  },
  {
   "cell_type": "markdown",
   "metadata": {},
   "source": [
    "## Memory profiler "
   ]
  },
  {
   "cell_type": "markdown",
   "metadata": {},
   "source": [
    "Much like `line_profiler`, this examines code line-by-line and displays memory usage. Unfortunately, there is no magical way to do this in the notebook. \n",
    "\n",
    "It does provide a useful `%memit` magic though. Load it with:"
   ]
  },
  {
   "cell_type": "code",
   "execution_count": 6,
   "metadata": {},
   "outputs": [],
   "source": [
    "%load_ext memory_profiler"
   ]
  },
  {
   "cell_type": "markdown",
   "metadata": {},
   "source": [
    "The `%memit` magic shows how much memory the notebook has used so far:"
   ]
  },
  {
   "cell_type": "code",
   "execution_count": 7,
   "metadata": {},
   "outputs": [
    {
     "name": "stdout",
     "output_type": "stream",
     "text": [
      "peak memory: 71.61 MiB, increment: 0.08 MiB\n"
     ]
    }
   ],
   "source": [
    "%memit"
   ]
  },
  {
   "cell_type": "code",
   "execution_count": 8,
   "metadata": {},
   "outputs": [
    {
     "name": "stdout",
     "output_type": "stream",
     "text": [
      "peak memory: 86.91 MiB, increment: 15.29 MiB\n"
     ]
    }
   ],
   "source": [
    "# (run this cell twice and watch the output...)\n",
    "%memit b = np.random.randn(1000,1000)"
   ]
  },
  {
   "cell_type": "markdown",
   "metadata": {},
   "source": [
    "To show how `memory_profiler` works we first create a file with code to be profiled. Decorate the function(s) of interest with `@profile`:"
   ]
  },
  {
   "cell_type": "code",
   "execution_count": 9,
   "metadata": {},
   "outputs": [
    {
     "name": "stdout",
     "output_type": "stream",
     "text": [
      "Overwriting tmp2.py\n"
     ]
    }
   ],
   "source": [
    "%%file tmp2.py\n",
    "\n",
    "import numpy as np\n",
    "from scipy.stats import spearmanr\n",
    "\n",
    "@profile\n",
    "def spearman():\n",
    "    data = np.random.randn(1000,10000)\n",
    "    correlation = spearmanr(data, axis=1).correlation\n",
    "    return correlation\n",
    "\n",
    "\n",
    "if __name__ == \"__main__\":\n",
    "    spearman()"
   ]
  },
  {
   "cell_type": "code",
   "execution_count": 10,
   "metadata": {},
   "outputs": [
    {
     "name": "stdout",
     "output_type": "stream",
     "text": [
      "Filename: tmp2.py\r\n",
      "\r\n",
      "Line #    Mem usage    Increment   Line Contents\r\n",
      "================================================\r\n",
      "     5   55.848 MiB   55.848 MiB   @profile\r\n",
      "     6                             def spearman():\r\n",
      "     7  132.164 MiB   76.316 MiB       data = np.random.randn(1000,10000)\r\n",
      "     8  367.398 MiB  235.234 MiB       correlation = spearmanr(data, axis=1).correlation\r\n",
      "     9  367.398 MiB    0.000 MiB       return correlation\r\n",
      "\r\n",
      "\r\n"
     ]
    }
   ],
   "source": [
    "!python -m memory_profiler tmp2.py"
   ]
  },
  {
   "cell_type": "markdown",
   "metadata": {},
   "source": [
    "## mprof"
   ]
  },
  {
   "cell_type": "markdown",
   "metadata": {},
   "source": [
    "The `mprof` command is part of `memory_profiler`. It measures the memory consumption over time. It also works with non-Python code. Create a file to profile:"
   ]
  },
  {
   "cell_type": "code",
   "execution_count": 16,
   "metadata": {},
   "outputs": [
    {
     "name": "stdout",
     "output_type": "stream",
     "text": [
      "Overwriting tmp3.py\n"
     ]
    }
   ],
   "source": [
    "%%file tmp3.py\n",
    "\n",
    "import numpy as np\n",
    "\n",
    "@profile\n",
    "def f1():\n",
    "    data = np.random.randn(1000,10000)\n",
    "    return data\n",
    "\n",
    "@profile\n",
    "def f2():\n",
    "    data = np.random.randn(1000,10000)\n",
    "    return data\n",
    "    \n",
    "if __name__ == \"__main__\":\n",
    "    a = f1()\n",
    "    b = f2()"
   ]
  },
  {
   "cell_type": "markdown",
   "metadata": {},
   "source": [
    "Use the `mprof run` to execute and profile the script:"
   ]
  },
  {
   "cell_type": "code",
   "execution_count": 17,
   "metadata": {},
   "outputs": [
    {
     "name": "stdout",
     "output_type": "stream",
     "text": [
      "mprof: Sampling memory every 0.1s\r\n",
      "running as a Python program...\r\n"
     ]
    }
   ],
   "source": [
    "!mprof run tmp3.py"
   ]
  },
  {
   "cell_type": "markdown",
   "metadata": {},
   "source": [
    "Use `mprof plot` to generate a plot:"
   ]
  },
  {
   "cell_type": "code",
   "execution_count": 18,
   "metadata": {},
   "outputs": [
    {
     "name": "stdout",
     "output_type": "stream",
     "text": [
      "Using last profile data.\r\n"
     ]
    }
   ],
   "source": [
    "!mprof plot --output mem.png"
   ]
  },
  {
   "cell_type": "markdown",
   "metadata": {},
   "source": [
    "![title](mem.png)"
   ]
  },
  {
   "cell_type": "markdown",
   "metadata": {},
   "source": [
    "`mprof` writes its data to a text file named `mprofile_<timestamp>.dat`:"
   ]
  },
  {
   "cell_type": "code",
   "execution_count": 19,
   "metadata": {},
   "outputs": [
    {
     "name": "stdout",
     "output_type": "stream",
     "text": [
      "mprofile_20180321120435.dat mprofile_20180321120525.dat\r\n"
     ]
    }
   ],
   "source": [
    "!ls mprofile_*"
   ]
  },
  {
   "cell_type": "code",
   "execution_count": 20,
   "metadata": {},
   "outputs": [
    {
     "name": "stdout",
     "output_type": "stream",
     "text": [
      "FUNC __main__.f1 41.6680 1521633926.1026 117.9922 1521633926.4258\r\n",
      "FUNC __main__.f2 117.9922 1521633926.4259 194.2891 1521633926.7415\r\n",
      "CMDLINE /Users/sthorn/anaconda_envs/profiling/bin/python tmp3.py\r\n",
      "MEM 0.023438 1521633925.6028\r\n",
      "MEM 12.722656 1521633925.7077\r\n",
      "MEM 19.796875 1521633925.8110\r\n",
      "MEM 28.984375 1521633925.9132\r\n",
      "MEM 32.992188 1521633926.0176\r\n",
      "MEM 46.675781 1521633926.1229\r\n",
      "MEM 72.023438 1521633926.2267\r\n",
      "MEM 95.410156 1521633926.3283\r\n",
      "MEM 119.859375 1521633926.4335\r\n",
      "MEM 145.738281 1521633926.5387\r\n",
      "MEM 170.332031 1521633926.6439\r\n",
      "MEM 194.304688 1521633926.7491\r\n"
     ]
    }
   ],
   "source": [
    "!cat mprofile_20180321120525.dat"
   ]
  },
  {
   "cell_type": "code",
   "execution_count": null,
   "metadata": {},
   "outputs": [],
   "source": []
  }
 ],
 "metadata": {
  "kernelspec": {
   "display_name": "Python 3",
   "language": "python",
   "name": "python3"
  },
  "language_info": {
   "codemirror_mode": {
    "name": "ipython",
    "version": 3
   },
   "file_extension": ".py",
   "mimetype": "text/x-python",
   "name": "python",
   "nbconvert_exporter": "python",
   "pygments_lexer": "ipython3",
   "version": "3.6.4"
  }
 },
 "nbformat": 4,
 "nbformat_minor": 2
}
